{
 "cells": [
  {
   "cell_type": "code",
   "execution_count": 1,
   "metadata": {},
   "outputs": [],
   "source": [
    "import torch\n",
    "import torch.nn as nn\n",
    "import torch.nn.functional as F\n",
    "from glob import glob\n",
    "import numpy as np\n",
    "import nibabel as nib\n",
    "import os\n",
    "import pickle\n",
    "from torch.utils.data import Dataset\n",
    "from torchvision import transforms\n",
    "from torch.autograd import Function, Variable\n",
    "from tqdm import tqdm\n",
    "import math\n",
    "import matplotlib.pyplot as plt"
   ]
  },
  {
   "cell_type": "code",
   "execution_count": 2,
   "metadata": {},
   "outputs": [],
   "source": [
    "import warnings\n",
    "warnings.filterwarnings('ignore')"
   ]
  },
  {
   "cell_type": "code",
   "execution_count": 3,
   "metadata": {},
   "outputs": [
    {
     "data": {
      "text/plain": [
       "'Tesla K80'"
      ]
     },
     "execution_count": 3,
     "metadata": {},
     "output_type": "execute_result"
    }
   ],
   "source": [
    "torch.cuda.get_device_name()"
   ]
  },
  {
   "cell_type": "code",
   "execution_count": 4,
   "metadata": {},
   "outputs": [],
   "source": [
    "def ELU(elu, nchan):\n",
    "    if elu:\n",
    "        return nn.ELU(inplace=True)\n",
    "    else:\n",
    "        return nn.PReLU(nchan)\n",
    "    \n",
    "def n_conv(nchan, depth, elu):\n",
    "    layers = []\n",
    "    for _ in range(depth):\n",
    "        layers.append(single_conv(nchan, elu))\n",
    "    return nn.Sequential(*layers)\n",
    "\n",
    "\n",
    "class single_conv(nn.Module):\n",
    "    def __init__(self, nchan, elu):\n",
    "        super(single_conv, self).__init__()\n",
    "        self.relu = ELU(elu, nchan)\n",
    "        self.conv = nn.Conv3d(nchan, nchan, kernel_size=5, padding=2)\n",
    "        self.bn = nn.BatchNorm3d(nchan)\n",
    "\n",
    "    def forward(self, x):\n",
    "        out = self.relu(self.bn(self.conv(x)))\n",
    "        return out\n"
   ]
  },
  {
   "cell_type": "code",
   "execution_count": 5,
   "metadata": {},
   "outputs": [],
   "source": [
    "class input_layer(nn.Module):\n",
    "    def __init__(self, in_ch, out_ch, elu):\n",
    "        super(input_layer, self).__init__()\n",
    "\n",
    "        self.conv = nn.Conv3d(in_ch,out_ch,kernel_size=5,padding=2)\n",
    "        self.relu = ELU(elu, out_ch)\n",
    "        self.bn = nn.BatchNorm3d(out_ch)\n",
    "        \n",
    "    def forward(self, x):\n",
    "        # 1. Convolve\n",
    "        out = self.conv(x)\n",
    "        # 2. Normalize\n",
    "        out = self.bn(out)\n",
    "        # 3. Add output and input\n",
    "        out = torch.add(out, x)\n",
    "        # 4. Activation\n",
    "        out = self.relu(out)\n",
    "        return out\n",
    "    "
   ]
  },
  {
   "cell_type": "code",
   "execution_count": 6,
   "metadata": {},
   "outputs": [],
   "source": [
    "class down_layer(nn.Module):\n",
    "    def __init__(self, in_ch, nConv, elu):\n",
    "        super(down_layer, self).__init__()\n",
    "        out_ch = 2*in_ch\n",
    "        self.down_conv = nn.Conv3d(in_ch, out_ch, kernel_size=2, stride=2)\n",
    "        self.bn = nn.BatchNorm3d(out_ch)\n",
    "        self.relu = ELU(elu, out_ch)\n",
    "        self.layers = n_conv(out_ch, nConv, elu)\n",
    "        \n",
    "    def forward(self, x):\n",
    "        down = self.relu(self.bn(self.down_conv(x)))\n",
    "        out = self.layers(down)\n",
    "        out = self.relu(torch.add(out, down))\n",
    "        return down, out"
   ]
  },
  {
   "cell_type": "code",
   "execution_count": 7,
   "metadata": {},
   "outputs": [],
   "source": [
    "class up_layer(nn.Module):\n",
    "    def __init__(self, in_ch, out_ch, nConv, elu):\n",
    "        super(up_layer, self).__init__()\n",
    "        self.up_conv = nn.ConvTranspose3d(in_ch, out_ch//2 , kernel_size=2, stride=2)\n",
    "        self.bn = nn.BatchNorm3d(out_ch//2 )\n",
    "        self.relu1 = ELU(elu, out_ch//2 )\n",
    "        self.relu2 = ELU(elu, out_ch)\n",
    "        self.layers = n_conv(out_ch, nConv, elu)\n",
    "        #self.do2 = nn.Dropout3d()\n",
    "\n",
    "    def forward(self, x, skipx):\n",
    "        out = self.relu1(self.bn(self.up_conv(x)))\n",
    "        xcat = torch.cat((out, skipx), 1)\n",
    "        out = self.layers(xcat)\n",
    "        out = self.relu2(torch.add(out, xcat))\n",
    "        return out"
   ]
  },
  {
   "cell_type": "code",
   "execution_count": 75,
   "metadata": {},
   "outputs": [],
   "source": [
    "class output_layer(nn.Module):\n",
    "    def __init__(self, in_ch, elu, nll):\n",
    "        super(output_layer, self).__init__()\n",
    "        self.conv1 = nn.Conv3d(in_ch, 2, kernel_size=5, padding=2)\n",
    "        self.bn = nn.BatchNorm3d(2)\n",
    "        self.conv2 = nn.Conv3d(2, 1, kernel_size=1)\n",
    "        self.relu1 = ELU(elu, 2)\n",
    "        if nll:\n",
    "            self.softmax = F.log_softmax\n",
    "        else:\n",
    "            self.softmax = F.sigmoid\n",
    "\n",
    "    def forward(self, x):\n",
    "        out = self.relu1(self.bn(self.conv1(x)))\n",
    "        out = self.conv2(out)\n",
    "        out = self.softmax(out)\n",
    "        return out\n"
   ]
  },
  {
   "cell_type": "code",
   "execution_count": 76,
   "metadata": {},
   "outputs": [],
   "source": [
    "class VNet(nn.Module):\n",
    "    \n",
    "    def __init__(self, elu=True, nll=False):\n",
    "        super(VNet, self).__init__()\n",
    "        #In\n",
    "        self.input = input_layer(1, 16, elu)\n",
    "        \n",
    "        #Down\n",
    "        self.down32 = down_layer(16, 1, elu)\n",
    "        self.down64 = down_layer(32, 2, elu)\n",
    "        self.down128 = down_layer(64, 3, elu)\n",
    "        self.down256 = down_layer(128, 2, elu)\n",
    "        \n",
    "        #Up\n",
    "        self.up256 = up_layer(256,256, 2, elu)\n",
    "        self.up128 = up_layer(256,128, 2, elu)\n",
    "        self.up64 = up_layer(128,64, 1, elu)\n",
    "        self.up32 = up_layer(64,32, 1, elu)\n",
    "        \n",
    "        #Out\n",
    "        self.output = output_layer(32, elu, nll)\n",
    "    \n",
    "    def forward(self, x):\n",
    "        #Layer 1: In\n",
    "        out16 = self.input(x)\n",
    "        \n",
    "        #Layer 2 : Down ( 2 conv layers deep)\n",
    "        d_32, out32 = self.down32(out16)\n",
    "        \n",
    "        #Layer 3 : Down ( 3 conv layers deep)\n",
    "        d_64, out64 = self.down64(out32)\n",
    "        \n",
    "        #Layer 4 : Down ( 3 conv layers deep)\n",
    "        d_128, out128 = self.down128(out64)      \n",
    "        \n",
    "        #Layer 5 : Down ( 3 conv layers deep)\n",
    "        d_256, out256 = self.down256(out128)\n",
    "        \n",
    "        #Layer 5 : up ( 3 conv layers deep)\n",
    "        output = self.up256(out256, out128)\n",
    "\n",
    "        #Layer 4 : up ( 3 conv layers deep)\n",
    "        output = self.up128(output, out64)\n",
    "        \n",
    "        #Layer 3 : up ( 3 conv layers deep)\n",
    "        output = self.up64(output, out32)\n",
    "        \n",
    "        #Layer 2 : up ( 2 conv layers deep)\n",
    "        output = self.up32(output, out16)\n",
    "        \n",
    "        #Layer 1 : out\n",
    "        output = self.output(output)\n",
    "        \n",
    "        return output"
   ]
  },
  {
   "cell_type": "code",
   "execution_count": 77,
   "metadata": {},
   "outputs": [],
   "source": [
    "net = VNet(elu=False, nll=False)\n",
    "#print(model)"
   ]
  },
  {
   "cell_type": "code",
   "execution_count": 12,
   "metadata": {},
   "outputs": [
    {
     "name": "stdout",
     "output_type": "stream",
     "text": [
      "Number of parameters in network:  45603451\n"
     ]
    }
   ],
   "source": [
    "n_params = sum(p.numel() for p in net.parameters() if p.requires_grad)\n",
    "print('Number of parameters in network: ', n_params)"
   ]
  },
  {
   "cell_type": "code",
   "execution_count": 13,
   "metadata": {},
   "outputs": [],
   "source": [
    "# Path to the folder that contains folders of segmentation data\n",
    "PATH = \"data/TrainingDataset_MSSEG/\"\n",
    "# Takes all folders in the path \n",
    "PATH = PATH + \"*/\"\n",
    "image_paths = []\n",
    "mask_paths = []\n",
    "\n",
    "block_size = (32,32,32)\n",
    "\n",
    "directory_paths = glob(PATH)\n",
    "for path in directory_paths:\n",
    "    # Load all the paths for each Flair set of data (1 Flair data and all its segmentation paths)\n",
    "    flair_path = path + '3DFLAIR.nii.gz'\n",
    "    seg1_path = path + 'ManualSegmentation_1.nii.gz'\n",
    "    seg2_path = path + 'ManualSegmentation_2.nii.gz'\n",
    "    seg3_path = path + 'ManualSegmentation_3.nii.gz'\n",
    "    seg4_path = path + 'ManualSegmentation_4.nii.gz'\n",
    "    seg5_path = path + 'ManualSegmentation_5.nii.gz'\n",
    "    seg6_path = path + 'ManualSegmentation_6.nii.gz'\n",
    "    seg7_path = path + 'ManualSegmentation_7.nii.gz'\n",
    "    image_paths.extend([flair_path,flair_path,flair_path,flair_path,flair_path,flair_path,flair_path])\n",
    "    mask_paths.extend([seg1_path,seg2_path,seg3_path,seg4_path,seg5_path,seg6_path,seg7_path])\n"
   ]
  },
  {
   "cell_type": "code",
   "execution_count": 15,
   "metadata": {},
   "outputs": [],
   "source": [
    "def split_train_val(image_paths, mask_paths, train_size):\n",
    "    \n",
    "    len_data = len(image_paths)\n",
    "    print('total len:', len_data)\n",
    "\n",
    "    img_mask_list = []\n",
    "    \n",
    "    for i in range(len_data):\n",
    "        img_mask_list.append((image_paths[i], mask_paths[i]))\n",
    "        \n",
    "    train_img_mask_paths = img_mask_list[:int(len_data*train_size)] \n",
    "    val_img_mask_paths = img_mask_list[int(len_data*train_size):]\n",
    "    \n",
    "    return train_img_mask_paths, val_img_mask_paths"
   ]
  },
  {
   "cell_type": "code",
   "execution_count": 16,
   "metadata": {},
   "outputs": [],
   "source": [
    "def zero_padding(data, block_size):\n",
    "    # Calculate final size to be achieved\n",
    "    ceil_val = math.ceil(data.shape[0]/block_size[0])\n",
    "    #Calculate required padding size \n",
    "    pad_val_c = (block_size[0] * ceil_val) - data.shape[0]\n",
    "    \n",
    "    # Calculate final size to be achieved\n",
    "    ceil_val = math.ceil(data.shape[1]/block_size[1])\n",
    "    #Calculate required padding size\n",
    "    pad_val_h = (block_size[1] * ceil_val) - data.shape[1]\n",
    "    \n",
    "    # Calculate final size to be achieved\n",
    "    ceil_val = math.ceil(data.shape[2]/block_size[2])\n",
    "    # Calculate required padding size\n",
    "    pad_val_w = (block_size[2] * ceil_val) - data.shape[2]\n",
    "    \n",
    "    # Constant padding\n",
    "    data = np.pad(data, ((0,pad_val_c),(0,pad_val_h),(0,pad_val_w)), 'constant')\n",
    "    #data = np.array(data, dtype=np.int16)\n",
    "    \n",
    "    #changed dtype to float\n",
    "    data = np.array(data, dtype=np.float32)\n",
    "    return data\n",
    "\n",
    "\n",
    "def get_data_blocks(data, block_size ):\n",
    "    x = torch.from_numpy(data)\n",
    "    # Add a dimension at 0th position\n",
    "    x = x.unsqueeze(0)\n",
    "    # Kernel Size\n",
    "    kc, kh, kw = block_size[0], block_size[1], block_size[2]\n",
    "    # stride\n",
    "    dc, dh, dw = block_size[0], block_size[1], block_size[2]\n",
    "    patches = x.unfold(1, kc, dc).unfold(2, kh, dh).unfold(3, kw, dw)\n",
    "    unfold_shape = patches.size()\n",
    "    patches = patches.contiguous().view(patches.size(0), -1, kc, kh, kw)\n",
    "    #Return Patches and Unfold Shape\n",
    "    return patches, unfold_shape"
   ]
  },
  {
   "cell_type": "code",
   "execution_count": 17,
   "metadata": {},
   "outputs": [],
   "source": [
    "def preprocess_image(image_mask_paths):\n",
    "    img_mask_list = []\n",
    "\n",
    "    for i in tqdm(range(len(image_mask_paths))):\n",
    "        \n",
    "        #load the img and mask\n",
    "        vol = nib.load(image_mask_paths[i][0])\n",
    "        m = nib.load(image_mask_paths[i][1])\n",
    "        \n",
    "        # Get data, normalize the image and pad\n",
    "        img = np.array(vol.get_data(), np.float32) \n",
    "        img = img / np.amax(img)\n",
    "        img_padded = zero_padding(img, block_size)\n",
    "        \n",
    "        mask = np.array(m.get_data(),np.uint8)\n",
    "        mask = mask / np.amax(mask)\n",
    "        mask_padded = zero_padding(mask, block_size)\n",
    "\n",
    "        # Generate data blocks of block_size\n",
    "        img_blocks, unfold_shape_img = get_data_blocks(data = img_padded, block_size = block_size)\n",
    "        mask_blocks, unfold_shape_mask = get_data_blocks(data = mask_padded, block_size = block_size)\n",
    "\n",
    "        img_array = img_blocks.numpy()\n",
    "        mask_array = mask_blocks.numpy()\n",
    "\n",
    "        for i in range(len(img_array[0])):\n",
    "            if np.sum(mask_array[0][i]) !=0:\n",
    "                img_mask_list.append((img_array[0][i], mask_array[0][i]))\n",
    "\n",
    "    return img_mask_list "
   ]
  },
  {
   "cell_type": "code",
   "execution_count": 18,
   "metadata": {},
   "outputs": [
    {
     "name": "stderr",
     "output_type": "stream",
     "text": [
      "  0%|          | 0/1 [00:00<?, ?it/s]"
     ]
    },
    {
     "name": "stdout",
     "output_type": "stream",
     "text": [
      "total len: 2\n",
      "1\n"
     ]
    },
    {
     "name": "stderr",
     "output_type": "stream",
     "text": [
      "100%|██████████| 1/1 [00:03<00:00,  3.48s/it]\n",
      "100%|██████████| 1/1 [00:03<00:00,  3.37s/it]"
     ]
    },
    {
     "name": "stdout",
     "output_type": "stream",
     "text": [
      "No. of blocks containing lesion:  26\n"
     ]
    },
    {
     "name": "stderr",
     "output_type": "stream",
     "text": [
      "\n"
     ]
    }
   ],
   "source": [
    "train_img_mask_paths, val_img_mask_paths = split_train_val(image_paths[:2], mask_paths[:2], 0.95)\n",
    "print(len(train_img_mask_paths))\n",
    "#print(val_img_mask_paths)\n",
    "\n",
    "#Training:\n",
    "train_img_masks = preprocess_image(train_img_mask_paths)\n",
    "\n",
    "#Validation:\n",
    "val_img_masks = preprocess_image(val_img_mask_paths)\n",
    "\n",
    "print('No. of blocks containing lesion: ',len(train_img_masks))\n",
    "#print(len(val_img_masks))"
   ]
  },
  {
   "cell_type": "code",
   "execution_count": 20,
   "metadata": {},
   "outputs": [
    {
     "data": {
      "image/png": "[encoded data removed]",
      "text/plain": [
       "<matplotlib.figure.Figure at 0x2b1e2ff1bd30>"
      ]
     },
     "metadata": {
      "needs_background": "light"
     },
     "output_type": "display_data"
    }
   ],
   "source": [
    "#Image and mask alignment\n",
    "\n",
    "def show_slices(slices):\n",
    "    \"\"\" Function to display row of image slices \"\"\"\n",
    "    fig, axes = plt.subplots(1, len(slices), figsize=(8,8))\n",
    "    for i, slc in enumerate(slices):\n",
    "        axes[i].imshow(slc.T, cmap=\"gray\", origin=\"lower\")\n",
    "\n",
    "# for i in range(1):\n",
    "#     for j in range(len(train_img_masks[i][0][0][0])):\n",
    "#         show_slices([train_img_masks[i][0][j ,:, :], train_img_masks[i][1][j, :, :]])\n",
    "\n",
    "show_slices([train_img_masks[0][0][10 ,:, :], train_img_masks[0][1][10, :, :]])"
   ]
  },
  {
   "cell_type": "code",
   "execution_count": 69,
   "metadata": {},
   "outputs": [
    {
     "name": "stdout",
     "output_type": "stream",
     "text": [
      "1\n",
      "(32, 32, 32)\n"
     ]
    }
   ],
   "source": [
    "train_img_masks_1 = [(train_img_masks[0][0], train_img_masks[0][1])]\n",
    "print(len(train_img_masks_1))\n",
    "print(train_img_masks_1[0][1].shape)"
   ]
  },
  {
   "cell_type": "code",
   "execution_count": 39,
   "metadata": {},
   "outputs": [
    {
     "name": "stdout",
     "output_type": "stream",
     "text": [
      "Input image max value:  0.621622\n",
      "Input mask max value:  1.0\n"
     ]
    }
   ],
   "source": [
    "print('Input image max value: ',np.amax(train_img_masks[0][0]))\n",
    "print('Input mask max value: ',np.amax(train_img_masks[0][1]))"
   ]
  },
  {
   "cell_type": "code",
   "execution_count": 40,
   "metadata": {},
   "outputs": [],
   "source": [
    "class ToTensor(object):\n",
    "    \"\"\"\n",
    "    Convert ndarrays in sample to Tensors.\n",
    "    \"\"\"\n",
    "    def __init__(self):\n",
    "        pass\n",
    "\n",
    "    def __call__(self, sample):\n",
    "        image, label = sample['img'], sample['label']\n",
    "        image = image[None,:,:]\n",
    "        label = label[None,:,:]\n",
    "\n",
    "        return {'img': torch.from_numpy(image.copy()).type(torch.FloatTensor),\n",
    "                'label': torch.from_numpy(label.copy()).type(torch.FloatTensor)}"
   ]
  },
  {
   "cell_type": "code",
   "execution_count": 41,
   "metadata": {},
   "outputs": [],
   "source": [
    "class CustomDataset(Dataset):\n",
    "    def __init__(self, image_masks, transforms=None):\n",
    "\n",
    "        self.image_masks = image_masks\n",
    "        self.transforms = transforms\n",
    "\n",
    "    def __len__(self):  # return count of sample we have\n",
    "\n",
    "        return len(self.image_masks)\n",
    "\n",
    "    def __getitem__(self, index):\n",
    "\n",
    "        image = self.image_masks[index][0] # H, W, C\n",
    "        mask = self.image_masks[index][1]\n",
    "\n",
    "#       image = np.transpose(image, axes=[2, 0, 1]) # C, H, W\n",
    "\n",
    "        sample = {'img': image, 'label': mask}\n",
    "\n",
    "        if transforms:\n",
    "            sample = self.transforms(sample)\n",
    "\n",
    "        return sample\n",
    "\n",
    "train_dataset = CustomDataset(train_img_masks_1, transforms=transforms.Compose([ToTensor()]))\n",
    "val_dataset = CustomDataset(val_img_masks, transforms=transforms.Compose([ToTensor()]))"
   ]
  },
  {
   "cell_type": "code",
   "execution_count": 42,
   "metadata": {},
   "outputs": [],
   "source": [
    "\n",
    "# dice coefficient \n",
    "class DiceCoeff(Function):\n",
    "    \"\"\"Dice coeff for one pair of input image and target image\"\"\"\n",
    "    def forward(self, prediction, target):\n",
    "        self.save_for_backward(prediction, target)\n",
    "        eps = 0.0001 \n",
    "        A = prediction.view(-1)\n",
    "        B = target.view(-1)\n",
    "        inter = torch.dot(A.float(),B.float())\n",
    "        union = torch.sum(A.float()) + torch.sum(B.float()) - inter + eps\n",
    "        d = inter / union\n",
    "        print('d: ',d)\n",
    "        return d\n",
    "\n",
    "#dice coefficients for batches\n",
    "def dice_coeff(prediction, target):\n",
    "    \"\"\"Dice coeff for batches\"\"\"\n",
    "    s = torch.FloatTensor(1).zero_()\n",
    "    \n",
    "    for i, (a,b) in enumerate(zip(prediction, target)):\n",
    "        s += DiceCoeff().forward(a,b)\n",
    "    s = s / (i + 1)\n",
    "    return s\n"
   ]
  },
  {
   "cell_type": "code",
   "execution_count": 43,
   "metadata": {},
   "outputs": [],
   "source": [
    "def eval_net(net, dataset):\n",
    "    # set net mode to evaluation\n",
    "    net.eval()\n",
    "    tot = 0\n",
    "    print('Validation began')\n",
    "    print('val len: ', len(dataset))\n",
    "    print(next(net.parameters()).is_cuda)\n",
    "    for i, b in enumerate(dataset):\n",
    "        img = b['img'].to(device)\n",
    "        B = img.shape[0]\n",
    "        true_mask = b['label'].to(device)\n",
    "\n",
    "        # Feed the image to the network to get predicted mask\n",
    "        mask_pred = net.forward(img.float())\n",
    "        print('predicted')\n",
    "        \n",
    "        # For all pixels in predicted mask, set them to 1 if larger than 0.5. Otherwise set them to 0\n",
    "        mask_pred = mask_pred > 0.5\n",
    "        \n",
    "        tot += dice_coeff(true_mask,mask_pred.numpy())\n",
    "        print('tot: ',tot)\n",
    "        #tot += dice_coeff(true_mask,mask_pred)\n",
    "\n",
    "    print('Validation done!')\n",
    "    return tot / (i + 1)\n"
   ]
  },
  {
   "cell_type": "code",
   "execution_count": 44,
   "metadata": {},
   "outputs": [
    {
     "name": "stdout",
     "output_type": "stream",
     "text": [
      "cuda:0\n"
     ]
    }
   ],
   "source": [
    "device = torch.device(\"cuda:0\" if torch.cuda.is_available() else \"cpu\")\n",
    "print(device)"
   ]
  },
  {
   "cell_type": "code",
   "execution_count": 78,
   "metadata": {},
   "outputs": [
    {
     "name": "stdout",
     "output_type": "stream",
     "text": [
      "Starting epoch 1/20.\n",
      "train len:  1\n",
      "0.0000 --- loss: 0.644084\n",
      "Epoch finished ! Loss: 0.6440840363502502\n",
      "Checkpoint 1 saved !\n",
      "Starting epoch 2/20.\n",
      "train len:  1\n",
      "0.0000 --- loss: 0.643812\n",
      "Epoch finished ! Loss: 0.6438117027282715\n",
      "Checkpoint 2 saved !\n",
      "Starting epoch 3/20.\n",
      "train len:  1\n",
      "0.0000 --- loss: 0.643294\n",
      "Epoch finished ! Loss: 0.6432941555976868\n",
      "Checkpoint 3 saved !\n",
      "Starting epoch 4/20.\n",
      "train len:  1\n",
      "0.0000 --- loss: 0.642556\n",
      "Epoch finished ! Loss: 0.6425559520721436\n",
      "Checkpoint 4 saved !\n",
      "Starting epoch 5/20.\n",
      "train len:  1\n",
      "0.0000 --- loss: 0.641620\n",
      "Epoch finished ! Loss: 0.6416200399398804\n",
      "Checkpoint 5 saved !\n",
      "Starting epoch 6/20.\n",
      "train len:  1\n",
      "0.0000 --- loss: 0.640507\n",
      "Epoch finished ! Loss: 0.6405065655708313\n",
      "Checkpoint 6 saved !\n",
      "Starting epoch 7/20.\n",
      "train len:  1\n",
      "0.0000 --- loss: 0.639235\n",
      "Epoch finished ! Loss: 0.639235258102417\n",
      "Checkpoint 7 saved !\n",
      "Starting epoch 8/20.\n",
      "train len:  1\n",
      "0.0000 --- loss: 0.637823\n",
      "Epoch finished ! Loss: 0.6378233432769775\n",
      "Checkpoint 8 saved !\n",
      "Starting epoch 9/20.\n",
      "train len:  1\n",
      "0.0000 --- loss: 0.636286\n",
      "Epoch finished ! Loss: 0.636285662651062\n",
      "Checkpoint 9 saved !\n",
      "Starting epoch 10/20.\n",
      "train len:  1\n",
      "0.0000 --- loss: 0.634636\n",
      "Epoch finished ! Loss: 0.6346361637115479\n",
      "Checkpoint 10 saved !\n",
      "Starting epoch 11/20.\n",
      "train len:  1\n",
      "0.0000 --- loss: 0.632888\n",
      "Epoch finished ! Loss: 0.6328876614570618\n",
      "Checkpoint 11 saved !\n",
      "Starting epoch 12/20.\n",
      "train len:  1\n",
      "0.0000 --- loss: 0.631052\n",
      "Epoch finished ! Loss: 0.6310524940490723\n",
      "Checkpoint 12 saved !\n",
      "Starting epoch 13/20.\n",
      "train len:  1\n",
      "0.0000 --- loss: 0.629141\n",
      "Epoch finished ! Loss: 0.6291407346725464\n",
      "Checkpoint 13 saved !\n",
      "Starting epoch 14/20.\n",
      "train len:  1\n",
      "0.0000 --- loss: 0.627161\n",
      "Epoch finished ! Loss: 0.6271610856056213\n",
      "Checkpoint 14 saved !\n",
      "Starting epoch 15/20.\n",
      "train len:  1\n",
      "0.0000 --- loss: 0.625123\n",
      "Epoch finished ! Loss: 0.6251228451728821\n",
      "Checkpoint 15 saved !\n",
      "Starting epoch 16/20.\n",
      "train len:  1\n",
      "0.0000 --- loss: 0.623034\n",
      "Epoch finished ! Loss: 0.6230340003967285\n",
      "Checkpoint 16 saved !\n",
      "Starting epoch 17/20.\n",
      "train len:  1\n",
      "0.0000 --- loss: 0.620903\n",
      "Epoch finished ! Loss: 0.6209031343460083\n",
      "Checkpoint 17 saved !\n",
      "Starting epoch 18/20.\n",
      "train len:  1\n",
      "0.0000 --- loss: 0.618733\n",
      "Epoch finished ! Loss: 0.6187331676483154\n",
      "Checkpoint 18 saved !\n",
      "Starting epoch 19/20.\n",
      "train len:  1\n",
      "0.0000 --- loss: 0.616528\n",
      "Epoch finished ! Loss: 0.6165275573730469\n",
      "Checkpoint 19 saved !\n",
      "Starting epoch 20/20.\n",
      "train len:  1\n",
      "0.0000 --- loss: 0.614292\n",
      "Epoch finished ! Loss: 0.6142916083335876\n",
      "Checkpoint 20 saved !\n"
     ]
    }
   ],
   "source": [
    "from torch import optim\n",
    "epochs = 20 # e.g. 10, or more until dice converge\n",
    "batch_size = 1 # e.g. 16\n",
    "lr = 0.001        # e.g. 0.01, 0.00001\n",
    "N_train = len(train_img_masks_1)\n",
    "model_save_path = '/scratch/srm714/data/model/'  # directory to same the model after each epoch.\n",
    "\n",
    "optimizer = optim.SGD(net.parameters(),lr = lr,momentum=0.90, weight_decay=0.0005)\n",
    "\n",
    "criterion = nn.BCELoss()\n",
    "net.to(device)\n",
    "\n",
    "# Start training\n",
    "for epoch in range(epochs):\n",
    "    print('Starting epoch {}/{}.'.format(epoch + 1, epochs))\n",
    "    net.train()\n",
    "    # Reload images and masks for training and validation and perform random shuffling at the begining of each epoch\n",
    "    train_loader = torch.utils.data.DataLoader(train_dataset, batch_size=batch_size, shuffle=False, num_workers=1)\n",
    "    val_loader = torch.utils.data.DataLoader(val_dataset, batch_size=batch_size, shuffle=False, num_workers=1)\n",
    "\n",
    "    epoch_loss = 0\n",
    "    count = 0\n",
    "    print('train len: ', len(train_loader))\n",
    "\n",
    "    for i, b in enumerate(train_loader):\n",
    "        # Get images and masks from each batch\n",
    "        imgs = b['img']\n",
    "        true_masks = b['label']\n",
    "        \n",
    "        imgs = imgs.to(device)\n",
    "        true_masks = true_masks.to(device)\n",
    "        \n",
    "\n",
    "        # Feed your images into the network\n",
    "        masks_pred = net.forward(imgs.float())\n",
    "        \n",
    "        true_masks_flat = true_masks.view(-1)\n",
    "        masks_pred_flat = masks_pred.view(-1)\n",
    "\n",
    "        # Calculate the loss by comparing the predicted masks vector and true masks vector\n",
    "        # And sum the losses together\n",
    "        loss = criterion(masks_pred_flat,true_masks_flat.float())\n",
    "        epoch_loss += loss.item()\n",
    "        if count % 50 == 0:\n",
    "            print('{0:.4f} --- loss: {1:.6f}'.format(i * batch_size / N_train, loss.item()))\n",
    "        count = count + 1\n",
    "        # optimizer.zero_grad() clears x.grad for every parameter x in the optimizer.\n",
    "        # It’s important to call this before loss.backward(), otherwise you’ll accumulate the gradients from multiple passes.\n",
    "        optimizer.zero_grad()\n",
    "        # loss.backward() computes dloss/dx for every parameter x which has requires_grad=True.\n",
    "        # These are accumulated into x.grad for every parameter x\n",
    "        loss.backward()\n",
    "        # optimizer.step updates the value of x using the gradient x.grad.\n",
    "        optimizer.step()\n",
    "    print('Epoch finished ! Loss: {}'.format(epoch_loss / (i+1)))\n",
    "\n",
    "    # Perform validation with eval_net() on the validation data\n",
    "    #val_dice = eval_net(net,val_loader)\n",
    "    #print('Validation Dice Coeff: {}'.format(val_dice))\n",
    "    \n",
    "    # Save the model after each epoch\n",
    "    if os.path.isdir(model_save_path):\n",
    "        torch.save(net.state_dict(),model_save_path + 'Brain_Seg_Epoch{}.pth'.format(epoch + 1))\n",
    "    else:\n",
    "        os.makedirs(model_save_path, exist_ok=True)\n",
    "        torch.save(net.state_dict(),model_save_path + 'Brain_Seg_Epoch{}.pth'.format(epoch + 1))\n",
    "    print('Checkpoint {} saved !'.format(epoch + 1))\n"
   ]
  },
  {
   "cell_type": "code",
   "execution_count": 43,
   "metadata": {},
   "outputs": [
    {
     "data": {
      "text/plain": [
       "VNet(\n",
       "  (input): input_layer(\n",
       "    (conv): Conv3d(1, 16, kernel_size=(5, 5, 5), stride=(1, 1, 1), padding=(2, 2, 2))\n",
       "    (relu): PReLU(num_parameters=16)\n",
       "    (bn): BatchNorm3d(16, eps=1e-05, momentum=0.1, affine=True, track_running_stats=True)\n",
       "  )\n",
       "  (down32): down_layer(\n",
       "    (down_conv): Conv3d(16, 32, kernel_size=(2, 2, 2), stride=(2, 2, 2))\n",
       "    (bn): BatchNorm3d(32, eps=1e-05, momentum=0.1, affine=True, track_running_stats=True)\n",
       "    (relu): PReLU(num_parameters=32)\n",
       "    (layers): Sequential(\n",
       "      (0): single_conv(\n",
       "        (relu): PReLU(num_parameters=32)\n",
       "        (conv): Conv3d(32, 32, kernel_size=(5, 5, 5), stride=(1, 1, 1), padding=(2, 2, 2))\n",
       "        (bn): BatchNorm3d(32, eps=1e-05, momentum=0.1, affine=True, track_running_stats=True)\n",
       "      )\n",
       "    )\n",
       "  )\n",
       "  (down64): down_layer(\n",
       "    (down_conv): Conv3d(32, 64, kernel_size=(2, 2, 2), stride=(2, 2, 2))\n",
       "    (bn): BatchNorm3d(64, eps=1e-05, momentum=0.1, affine=True, track_running_stats=True)\n",
       "    (relu): PReLU(num_parameters=64)\n",
       "    (layers): Sequential(\n",
       "      (0): single_conv(\n",
       "        (relu): PReLU(num_parameters=64)\n",
       "        (conv): Conv3d(64, 64, kernel_size=(5, 5, 5), stride=(1, 1, 1), padding=(2, 2, 2))\n",
       "        (bn): BatchNorm3d(64, eps=1e-05, momentum=0.1, affine=True, track_running_stats=True)\n",
       "      )\n",
       "      (1): single_conv(\n",
       "        (relu): PReLU(num_parameters=64)\n",
       "        (conv): Conv3d(64, 64, kernel_size=(5, 5, 5), stride=(1, 1, 1), padding=(2, 2, 2))\n",
       "        (bn): BatchNorm3d(64, eps=1e-05, momentum=0.1, affine=True, track_running_stats=True)\n",
       "      )\n",
       "    )\n",
       "  )\n",
       "  (down128): down_layer(\n",
       "    (down_conv): Conv3d(64, 128, kernel_size=(2, 2, 2), stride=(2, 2, 2))\n",
       "    (bn): BatchNorm3d(128, eps=1e-05, momentum=0.1, affine=True, track_running_stats=True)\n",
       "    (relu): PReLU(num_parameters=128)\n",
       "    (layers): Sequential(\n",
       "      (0): single_conv(\n",
       "        (relu): PReLU(num_parameters=128)\n",
       "        (conv): Conv3d(128, 128, kernel_size=(5, 5, 5), stride=(1, 1, 1), padding=(2, 2, 2))\n",
       "        (bn): BatchNorm3d(128, eps=1e-05, momentum=0.1, affine=True, track_running_stats=True)\n",
       "      )\n",
       "      (1): single_conv(\n",
       "        (relu): PReLU(num_parameters=128)\n",
       "        (conv): Conv3d(128, 128, kernel_size=(5, 5, 5), stride=(1, 1, 1), padding=(2, 2, 2))\n",
       "        (bn): BatchNorm3d(128, eps=1e-05, momentum=0.1, affine=True, track_running_stats=True)\n",
       "      )\n",
       "      (2): single_conv(\n",
       "        (relu): PReLU(num_parameters=128)\n",
       "        (conv): Conv3d(128, 128, kernel_size=(5, 5, 5), stride=(1, 1, 1), padding=(2, 2, 2))\n",
       "        (bn): BatchNorm3d(128, eps=1e-05, momentum=0.1, affine=True, track_running_stats=True)\n",
       "      )\n",
       "    )\n",
       "  )\n",
       "  (down256): down_layer(\n",
       "    (down_conv): Conv3d(128, 256, kernel_size=(2, 2, 2), stride=(2, 2, 2))\n",
       "    (bn): BatchNorm3d(256, eps=1e-05, momentum=0.1, affine=True, track_running_stats=True)\n",
       "    (relu): PReLU(num_parameters=256)\n",
       "    (layers): Sequential(\n",
       "      (0): single_conv(\n",
       "        (relu): PReLU(num_parameters=256)\n",
       "        (conv): Conv3d(256, 256, kernel_size=(5, 5, 5), stride=(1, 1, 1), padding=(2, 2, 2))\n",
       "        (bn): BatchNorm3d(256, eps=1e-05, momentum=0.1, affine=True, track_running_stats=True)\n",
       "      )\n",
       "      (1): single_conv(\n",
       "        (relu): PReLU(num_parameters=256)\n",
       "        (conv): Conv3d(256, 256, kernel_size=(5, 5, 5), stride=(1, 1, 1), padding=(2, 2, 2))\n",
       "        (bn): BatchNorm3d(256, eps=1e-05, momentum=0.1, affine=True, track_running_stats=True)\n",
       "      )\n",
       "    )\n",
       "  )\n",
       "  (up256): up_layer(\n",
       "    (up_conv): ConvTranspose3d(256, 128, kernel_size=(2, 2, 2), stride=(2, 2, 2))\n",
       "    (bn): BatchNorm3d(128, eps=1e-05, momentum=0.1, affine=True, track_running_stats=True)\n",
       "    (relu1): PReLU(num_parameters=128)\n",
       "    (relu2): PReLU(num_parameters=256)\n",
       "    (layers): Sequential(\n",
       "      (0): single_conv(\n",
       "        (relu): PReLU(num_parameters=256)\n",
       "        (conv): Conv3d(256, 256, kernel_size=(5, 5, 5), stride=(1, 1, 1), padding=(2, 2, 2))\n",
       "        (bn): BatchNorm3d(256, eps=1e-05, momentum=0.1, affine=True, track_running_stats=True)\n",
       "      )\n",
       "      (1): single_conv(\n",
       "        (relu): PReLU(num_parameters=256)\n",
       "        (conv): Conv3d(256, 256, kernel_size=(5, 5, 5), stride=(1, 1, 1), padding=(2, 2, 2))\n",
       "        (bn): BatchNorm3d(256, eps=1e-05, momentum=0.1, affine=True, track_running_stats=True)\n",
       "      )\n",
       "    )\n",
       "  )\n",
       "  (up128): up_layer(\n",
       "    (up_conv): ConvTranspose3d(256, 64, kernel_size=(2, 2, 2), stride=(2, 2, 2))\n",
       "    (bn): BatchNorm3d(64, eps=1e-05, momentum=0.1, affine=True, track_running_stats=True)\n",
       "    (relu1): PReLU(num_parameters=64)\n",
       "    (relu2): PReLU(num_parameters=128)\n",
       "    (layers): Sequential(\n",
       "      (0): single_conv(\n",
       "        (relu): PReLU(num_parameters=128)\n",
       "        (conv): Conv3d(128, 128, kernel_size=(5, 5, 5), stride=(1, 1, 1), padding=(2, 2, 2))\n",
       "        (bn): BatchNorm3d(128, eps=1e-05, momentum=0.1, affine=True, track_running_stats=True)\n",
       "      )\n",
       "      (1): single_conv(\n",
       "        (relu): PReLU(num_parameters=128)\n",
       "        (conv): Conv3d(128, 128, kernel_size=(5, 5, 5), stride=(1, 1, 1), padding=(2, 2, 2))\n",
       "        (bn): BatchNorm3d(128, eps=1e-05, momentum=0.1, affine=True, track_running_stats=True)\n",
       "      )\n",
       "    )\n",
       "  )\n",
       "  (up64): up_layer(\n",
       "    (up_conv): ConvTranspose3d(128, 32, kernel_size=(2, 2, 2), stride=(2, 2, 2))\n",
       "    (bn): BatchNorm3d(32, eps=1e-05, momentum=0.1, affine=True, track_running_stats=True)\n",
       "    (relu1): PReLU(num_parameters=32)\n",
       "    (relu2): PReLU(num_parameters=64)\n",
       "    (layers): Sequential(\n",
       "      (0): single_conv(\n",
       "        (relu): PReLU(num_parameters=64)\n",
       "        (conv): Conv3d(64, 64, kernel_size=(5, 5, 5), stride=(1, 1, 1), padding=(2, 2, 2))\n",
       "        (bn): BatchNorm3d(64, eps=1e-05, momentum=0.1, affine=True, track_running_stats=True)\n",
       "      )\n",
       "    )\n",
       "  )\n",
       "  (up32): up_layer(\n",
       "    (up_conv): ConvTranspose3d(64, 16, kernel_size=(2, 2, 2), stride=(2, 2, 2))\n",
       "    (bn): BatchNorm3d(16, eps=1e-05, momentum=0.1, affine=True, track_running_stats=True)\n",
       "    (relu1): PReLU(num_parameters=16)\n",
       "    (relu2): PReLU(num_parameters=32)\n",
       "    (layers): Sequential(\n",
       "      (0): single_conv(\n",
       "        (relu): PReLU(num_parameters=32)\n",
       "        (conv): Conv3d(32, 32, kernel_size=(5, 5, 5), stride=(1, 1, 1), padding=(2, 2, 2))\n",
       "        (bn): BatchNorm3d(32, eps=1e-05, momentum=0.1, affine=True, track_running_stats=True)\n",
       "      )\n",
       "    )\n",
       "  )\n",
       "  (output): output_layer(\n",
       "    (conv1): Conv3d(32, 2, kernel_size=(5, 5, 5), stride=(1, 1, 1), padding=(2, 2, 2))\n",
       "    (bn): BatchNorm3d(2, eps=1e-05, momentum=0.1, affine=True, track_running_stats=True)\n",
       "    (conv2): Conv3d(2, 1, kernel_size=(1, 1, 1), stride=(1, 1, 1))\n",
       "    (relu1): PReLU(num_parameters=2)\n",
       "  )\n",
       ")"
      ]
     },
     "execution_count": 43,
     "metadata": {},
     "output_type": "execute_result"
    }
   ],
   "source": [
    "net.load_state_dict(torch.load('/scratch/srm714/data/model/Brain_Seg_Epoch31.pth'))\n",
    "net.to(device)"
   ]
  },
  {
   "cell_type": "code",
   "execution_count": 71,
   "metadata": {},
   "outputs": [],
   "source": [
    "def predict_img(net,full_img,out_threshold=0.5):\n",
    "    # set the mode of your network to evaluation\n",
    "    net.eval()\n",
    "\n",
    "    X_img = torch.from_numpy(full_img).unsqueeze(0).unsqueeze(0).to(device)\n",
    "\n",
    "    with torch.no_grad():\n",
    "\n",
    "        output_img = net(X_img.float())\n",
    "        out_probs = output_img.squeeze(0).squeeze(0)\n",
    "        out_mask_np = (out_probs>out_threshold).cpu().numpy().astype('uint8')\n",
    "\n",
    "    return out_mask_np"
   ]
  },
  {
   "cell_type": "code",
   "execution_count": 47,
   "metadata": {},
   "outputs": [],
   "source": [
    "def reconstruct(blocks, unfold_shape):\n",
    "\n",
    "    blocks_orig = blocks.view(unfold_shape)\n",
    "    output_c = unfold_shape[1] * unfold_shape[4]\n",
    "    output_h = unfold_shape[2] * unfold_shape[5]\n",
    "    output_w = unfold_shape[3] * unfold_shape[6]\n",
    "    blocks_orig = blocks_orig.permute(0, 1, 4, 2, 5, 3, 6).contiguous()\n",
    "    blocks_orig = blocks_orig.view(1, output_c, output_h, output_w)\n",
    "    # Remove the dimension at 0th position and convert to numpy\n",
    "    blocks_orig = blocks_orig.squeeze(0).detach().numpy()\n",
    "    return blocks_orig"
   ]
  },
  {
   "cell_type": "code",
   "execution_count": 72,
   "metadata": {},
   "outputs": [],
   "source": [
    "#Using the same training block for prediction \n",
    "\n",
    "mask_pred = predict_img(net=net,full_img=train_img_masks_1[0][0], out_threshold=0.5)"
   ]
  },
  {
   "cell_type": "code",
   "execution_count": 73,
   "metadata": {},
   "outputs": [
    {
     "data": {
      "image/png": "[encoded data removed]",
      "text/plain": [
       "<matplotlib.figure.Figure at 0x2b1e2e2d6588>"
      ]
     },
     "metadata": {
      "needs_background": "light"
     },
     "output_type": "display_data"
    },
    {
     "data": {
      "image/png": "[encoded data removed]",
      "text/plain": [
       "<matplotlib.figure.Figure at 0x2b1e2e2d64e0>"
      ]
     },
     "metadata": {
      "needs_background": "light"
     },
     "output_type": "display_data"
    }
   ],
   "source": [
    "show_slices([train_img_masks_1[0][0][10,:,:], train_img_masks_1[0][1][10,:,:]])\n",
    "show_slices([train_img_masks_1[0][0][10,:,:], mask_pred[10,:,:]])"
   ]
  },
  {
   "cell_type": "code",
   "execution_count": null,
   "metadata": {},
   "outputs": [],
   "source": []
  }
 ],
 "metadata": {
  "kernelspec": {
   "display_name": "Python 3",
   "language": "python",
   "name": "python3"
  },
  "language_info": {
   "codemirror_mode": {
    "name": "ipython",
    "version": 3
   },
   "file_extension": ".py",
   "mimetype": "text/x-python",
   "name": "python",
   "nbconvert_exporter": "python",
   "pygments_lexer": "ipython3",
   "version": "3.6.3"
  }
 },
 "nbformat": 4,
 "nbformat_minor": 2
}
